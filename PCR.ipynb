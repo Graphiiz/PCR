{
 "cells": [
  {
   "cell_type": "code",
   "execution_count": 1,
   "id": "4c12a1cf-0636-44ab-84e0-9f0ed7a39be5",
   "metadata": {},
   "outputs": [],
   "source": [
    "from joblib import dump, load\n",
    "import pandas as pd\n",
    "from sklearn.preprocessing import LabelEncoder"
   ]
  },
  {
   "cell_type": "code",
   "execution_count": 2,
   "id": "56dd99ba-0d70-43df-b6f2-08d3259cc0e5",
   "metadata": {},
   "outputs": [
    {
     "name": "stdout",
     "output_type": "stream",
     "text": [
      "CPU times: user 2min 27s, sys: 2.25 s, total: 2min 29s\n",
      "Wall time: 2min 31s\n"
     ]
    }
   ],
   "source": [
    "%%time\n",
    "df = pd.read_excel('Dic_Tree_Data(Original).xlsx',index_col=False)"
   ]
  },
  {
   "cell_type": "code",
   "execution_count": 3,
   "id": "7651534d-0df0-4178-95e0-4ebfeb6e55d5",
   "metadata": {},
   "outputs": [
    {
     "name": "stdout",
     "output_type": "stream",
     "text": [
      "<class 'pandas.core.frame.DataFrame'>\n",
      "RangeIndex: 462650 entries, 0 to 462649\n",
      "Data columns (total 31 columns):\n",
      " #   Column           Non-Null Count   Dtype  \n",
      "---  ------           --------------   -----  \n",
      " 0   TotalDate        462650 non-null  int64  \n",
      " 1   KVA              462650 non-null  int64  \n",
      " 2   TSIC             462650 non-null  int64  \n",
      " 3   RATEBILL         462650 non-null  object \n",
      " 4   KW_PK            462650 non-null  float64\n",
      " 5   KW_PP_OP         462650 non-null  float64\n",
      " 6   KW_OP_H          462650 non-null  float64\n",
      " 7   MAX_KW           462650 non-null  float64\n",
      " 8   kvar_charge      462650 non-null  float64\n",
      " 9   LoadUse_Percent  462650 non-null  float64\n",
      " 10  KVAR_MAX         462650 non-null  float64\n",
      " 11  KWH_PK           462650 non-null  float64\n",
      " 12  KWH_PP_OP        462650 non-null  float64\n",
      " 13  KWH_OP_H         462650 non-null  float64\n",
      " 14  KWH_TOT          462650 non-null  float64\n",
      " 15  KWH_PEA          462650 non-null  float64\n",
      " 16  AMT_KW_PK        462650 non-null  float64\n",
      " 17  AMT_KW_PP        462650 non-null  float64\n",
      " 18  AMT_PF           462650 non-null  float64\n",
      " 19  AMT_KWH_PK       462650 non-null  float64\n",
      " 20  AMT_KWH_OP       462650 non-null  float64\n",
      " 21  AMT_KWH_TOT      462650 non-null  float64\n",
      " 22  AMT_SERVIC       462650 non-null  float64\n",
      " 23  AMT_FT           462650 non-null  float64\n",
      " 24  AMT_BOI          462650 non-null  int64  \n",
      " 25  AMT_MIN          462650 non-null  float64\n",
      " 26  AMT_BILL         462650 non-null  float64\n",
      " 27  AMT_VAT          462650 non-null  float64\n",
      " 28  AMT_INVOICE      462650 non-null  float64\n",
      " 29  LongText         109140 non-null  object \n",
      " 30  JobNO            462650 non-null  int64  \n",
      "dtypes: float64(24), int64(5), object(2)\n",
      "memory usage: 109.4+ MB\n"
     ]
    }
   ],
   "source": [
    "# any input df must have same set of columns as Dic_Tree_Data(Original).xlsx\n",
    "df.info()"
   ]
  },
  {
   "cell_type": "code",
   "execution_count": 4,
   "id": "2370bc38-35f9-42fc-be56-d6edad18dc47",
   "metadata": {},
   "outputs": [],
   "source": [
    "def check_col_exist(cols,df):\n",
    "    columns = df.columns\n",
    "    for col in cols:\n",
    "        if col not in columns:\n",
    "            return False\n",
    "    \n",
    "    return True\n",
    "\n",
    "def drop_col(df):\n",
    "    assert check_col_exist(['LongText','AMT_BOI','KWH_PP_OP','KW_OP_H','MAX_KW','KW_PP_OP','KWH_OP_H','KWH_TOT','AMT_KWH_OP','AMT_KWH_TOT','AMT_VAT','AMT_INVOICE'],df), 'Column not found'\n",
    "    return df.drop(['LongText','AMT_BOI','KWH_PP_OP','KW_OP_H','MAX_KW','KW_PP_OP','KWH_OP_H','KWH_TOT','AMT_KWH_OP','AMT_KWH_TOT','AMT_VAT','AMT_INVOICE'], axis=1)\n",
    "\n",
    "def encode_RateBill(df):\n",
    "    assert 'RATEBILL' in df.columns, 'Column not found'\n",
    "    le = LabelEncoder()\n",
    "    temp = le.fit_transform(df['RATEBILL'].tolist())\n",
    "    df['RATEBILL'] = temp\n",
    "    return df\n",
    "\n",
    "def create_features(df):\n",
    "    X = df.drop(['JobNO'], axis=1)\n",
    "    return X"
   ]
  },
  {
   "cell_type": "code",
   "execution_count": 5,
   "id": "6fdaf9cb-7d12-4fd6-873c-1693a433723a",
   "metadata": {},
   "outputs": [],
   "source": [
    "pipeline = load('PCR_pipeline.joblib')"
   ]
  },
  {
   "cell_type": "code",
   "execution_count": 8,
   "id": "f84e473c-a7a1-4b26-97db-df536ec96e93",
   "metadata": {},
   "outputs": [],
   "source": [
    "# the returned result is the prediction which inform us whether a customer interest in PEA services or not\n",
    "# 0 = not interest, 1 = interest\n",
    "result = pipeline.predict_proba(df)"
   ]
  },
  {
   "cell_type": "code",
   "execution_count": 14,
   "id": "ddaa91fa-3cd0-4d56-a661-100789c015d7",
   "metadata": {},
   "outputs": [
    {
     "data": {
      "text/plain": [
       "array([0.        , 0.        , 0.        , ..., 0.        , 0.39644766,\n",
       "       0.        ])"
      ]
     },
     "execution_count": 14,
     "metadata": {},
     "output_type": "execute_result"
    }
   ],
   "source": [
    "result[:,-1]"
   ]
  },
  {
   "cell_type": "code",
   "execution_count": null,
   "id": "6bdb62b0-0dd1-4b0f-83e8-8f23c4f02cbd",
   "metadata": {},
   "outputs": [],
   "source": []
  }
 ],
 "metadata": {
  "kernelspec": {
   "display_name": "Python 3",
   "language": "python",
   "name": "python3"
  },
  "language_info": {
   "codemirror_mode": {
    "name": "ipython",
    "version": 3
   },
   "file_extension": ".py",
   "mimetype": "text/x-python",
   "name": "python",
   "nbconvert_exporter": "python",
   "pygments_lexer": "ipython3",
   "version": "3.9.12"
  }
 },
 "nbformat": 4,
 "nbformat_minor": 5
}
